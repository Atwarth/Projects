{
 "cells": [
  {
   "cell_type": "code",
   "execution_count": null,
   "metadata": {},
   "outputs": [],
   "source": [
    "import numpy as np\n",
    "import matplotlib.pyplot as plt\n",
    "from matplotlib.animation import FuncAnimation"
   ]
  },
  {
   "cell_type": "code",
   "execution_count": null,
   "metadata": {},
   "outputs": [],
   "source": [
    "R = 5.0\n",
    "l = 5.0\n",
    "\n",
    "def scaled_pixel(c,screen):\n",
    "    colours = []\n",
    "    for pixel in screen:\n",
    "        zx = pixel[0].real/R\n",
    "        zy = pixel[1].imag/R\n",
    "        iteration = 0\n",
    "        max_iteration = 1000\n",
    "        while(zx*zx+zy*zy<R**2 and iteration < max_iteration):\n",
    "            xtemp = zx*zx - zy*zy\n",
    "            zy = 2*zx*zy  + c.imag \n",
    "            zx = xtemp + c.real\n",
    "            iteration += 1 \n",
    "        if (iteration == max_iteration):\n",
    "            colours.append(-1)\n",
    "        else:\n",
    "            colours.append(iteration)\n",
    "    return colours\n",
    "\n",
    "%matplotlib notebook\n",
    "\n",
    "\n",
    "X,Y = np.mgrid[-l:l+0.01:0.1, -l:l+0.01:0.1]\n",
    "xy = np.vstack([X.flatten(), 1j*Y.flatten()]).T\n",
    "\n",
    "fig, ax = plt.subplots()\n",
    "xdata, ydata = [], []\n",
    "ln, = plt.plot([], [])\n",
    "\n",
    "def init():\n",
    "    ax.set_xlim(-l, l)\n",
    "    ax.set_ylim(-l, l)\n",
    "    return ln,\n",
    "\n",
    "def update(frame):\n",
    "    \n",
    "    c = 0.7885*np.exp(1j*frame)\n",
    "    f = scaled_pixel(c,xy)\n",
    "    f = np.array(f)\n",
    "    c = 'darkblue','white','black','blue','red'\n",
    "    ax.scatter(xy[np.where(f==4)][:,0].real,xy[np.where(f==4)][:,1].imag, c=c[0])\n",
    "    ax.scatter(xy[np.where(f==5)][:,0].real,xy[np.where(f==5)][:,1].imag, c=c[1])\n",
    "    ax.scatter(xy[np.where(f==6)][:,0].real,xy[np.where(f==6)][:,1].imag, c=c[2])\n",
    "    ax.scatter(xy[np.where(f==7)][:,0].real,xy[np.where(f==7)][:,1].imag, c=c[3])\n",
    "    ax.scatter(xy[np.where(f==8)][:,0].real,xy[np.where(f==8)][:,1].imag, c=c[4])\n",
    "    ax.scatter(xy[np.where(f==-1)][:,0].real,xy[np.where(f==-1)][:,1].imag, c='gold')\n",
    "    \n",
    "    return ln,\n",
    "\n",
    "ani = FuncAnimation(fig, update, frames=np.linspace(0, 2*np.pi, 150),\n",
    "                    init_func=init, blit=True)\n",
    "plt.show()"
   ]
  },
  {
   "cell_type": "code",
   "execution_count": null,
   "metadata": {},
   "outputs": [],
   "source": []
  }
 ],
 "metadata": {
  "kernelspec": {
   "display_name": "Python 3",
   "language": "python",
   "name": "python3"
  },
  "language_info": {
   "codemirror_mode": {
    "name": "ipython",
    "version": 3
   },
   "file_extension": ".py",
   "mimetype": "text/x-python",
   "name": "python",
   "nbconvert_exporter": "python",
   "pygments_lexer": "ipython3",
   "version": "3.8.3"
  }
 },
 "nbformat": 4,
 "nbformat_minor": 4
}
