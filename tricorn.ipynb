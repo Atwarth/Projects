{
 "cells": [
  {
   "cell_type": "code",
   "execution_count": null,
   "metadata": {},
   "outputs": [],
   "source": [
    "import numpy as np\n",
    "import matplotlib.pyplot as plt\n",
    "from matplotlib.animation import FuncAnimation\n",
    "import matplotlib\n",
    "%matplotlib notebook"
   ]
  },
  {
   "cell_type": "code",
   "execution_count": null,
   "metadata": {},
   "outputs": [],
   "source": [
    "l = 10\n",
    "X,Y = np.mgrid[-l:l:0.45, -l:l:0.45]\n",
    "xy = np.vstack([X.flatten(), 1j*Y.flatten()]).T\n",
    "len(xy)"
   ]
  },
  {
   "cell_type": "code",
   "execution_count": null,
   "metadata": {},
   "outputs": [],
   "source": [
    "cmap = matplotlib.colors.LinearSegmentedColormap.from_list(\"\", [\"red\",\"violet\",\"blue\"])\n",
    "norm = plt.Normalize(0,1000)\n",
    "fig, ax = plt.subplots()\n",
    "ln, = plt.plot([], [])\n",
    "\n",
    "def init():\n",
    "    ax.set_xlim(-l, l)\n",
    "    ax.set_ylim(-l, l)\n",
    "    return ln,\n",
    "\n",
    "def update(frame):\n",
    "    \n",
    "    c = np.exp(1j*frame)\n",
    "    \n",
    "    for pixel in xy:\n",
    "        x0 = (pixel[0].real*c.real)/(l/2)\n",
    "        y0 = (pixel[1].imag*c.imag)/(l/2)\n",
    "        x = 0.0\n",
    "        y = 0.0\n",
    "        iteration = 0\n",
    "        max_iteration = 1000\n",
    "        while (x*x + y*y <= 2*2 and iteration < max_iteration):\n",
    "            xtemp = x*x - y*y + x0\n",
    "            y = -2*x*y + y0\n",
    "            x = xtemp\n",
    "            iteration += 1\n",
    "        ax.scatter(pixel[0].real, pixel[1].imag,c=iteration,cmap=cmap,norm=norm)    \n",
    "    return ln,\n",
    "\n",
    "ani = FuncAnimation(fig, update, frames=np.linspace(0, 2*np.pi, 100),\n",
    "                    init_func=init, blit=True)"
   ]
  },
  {
   "cell_type": "code",
   "execution_count": null,
   "metadata": {},
   "outputs": [],
   "source": []
  }
 ],
 "metadata": {
  "kernelspec": {
   "display_name": "Python 3",
   "language": "python",
   "name": "python3"
  },
  "language_info": {
   "codemirror_mode": {
    "name": "ipython",
    "version": 3
   },
   "file_extension": ".py",
   "mimetype": "text/x-python",
   "name": "python",
   "nbconvert_exporter": "python",
   "pygments_lexer": "ipython3",
   "version": "3.8.3"
  }
 },
 "nbformat": 4,
 "nbformat_minor": 4
}
